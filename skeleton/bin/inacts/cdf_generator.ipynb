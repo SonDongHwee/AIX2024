{
 "cells": [
  {
   "cell_type": "code",
   "execution_count": 69,
   "metadata": {},
   "outputs": [],
   "source": [
    "import numpy as np\n",
    "from scipy.stats import norm\n",
    "\n",
    "layer_number = 20\n"
   ]
  },
  {
   "cell_type": "markdown",
   "metadata": {},
   "source": [
    "# Gaussian CDF including zeros\n",
    "*mean* and *stdev* are calculated **including** zeros"
   ]
  },
  {
   "cell_type": "code",
   "execution_count": 70,
   "metadata": {},
   "outputs": [
    {
     "name": "stdout",
     "output_type": "stream",
     "text": [
      "Gaussian CDF calculated and written to ./CONV20_CDF_including_zeros.txt\n"
     ]
    }
   ],
   "source": [
    "src = \"./CONV\"+str('{:02d}'.format(layer_number))+\"_inputs.txt\"\n",
    "dst = \"./CONV\"+str('{:02d}'.format(layer_number))+\"_CDF_including_zeros.txt\"\n",
    "\n",
    "# Read numbers from file\n",
    "with open(src, \"r\") as file:\n",
    "    numbers = [float(line.strip()) for line in file]\n",
    "\n",
    "# Sort the numbers\n",
    "numbers.sort()\n",
    "\n",
    "# Calculate mean and standard deviation\n",
    "mean = np.mean(numbers)\n",
    "stddev = np.std(numbers)\n",
    "\n",
    "# Calculate and write Gaussian CDF for each number\n",
    "with open(dst, \"w\") as file:\n",
    "    for number in numbers:\n",
    "        cdf = norm.cdf(number, mean, stddev)\n",
    "        file.write(f\"{number}\\t\\t{cdf}\\n\")\n",
    "\n",
    "print(\"Gaussian CDF calculated and written to\", dst)\n",
    "\n"
   ]
  },
  {
   "cell_type": "markdown",
   "metadata": {},
   "source": [
    "# Gaussian CDF excluding zeros\n",
    "*mean* and *stdev* are calculated **excluding** zeros"
   ]
  },
  {
   "cell_type": "code",
   "execution_count": 71,
   "metadata": {},
   "outputs": [
    {
     "name": "stdout",
     "output_type": "stream",
     "text": [
      "Gaussian CDF calculated and written to ./CONV20_CDF_excluding_zeros.txt\n"
     ]
    }
   ],
   "source": [
    "src = \"./CONV\"+str('{:02d}'.format(layer_number))+\"_inputs.txt\"\n",
    "dst = \"./CONV\"+str('{:02d}'.format(layer_number))+\"_CDF_excluding_zeros.txt\"\n",
    "\n",
    "# Read numbers from file\n",
    "with open(src, \"r\") as file:\n",
    "    numbers = [float(line.strip()) for line in file]\n",
    "\n",
    "# Sort the numbers\n",
    "numbers.sort()\n",
    "\n",
    "# Filter out negative numbers\n",
    "positive_numbers = [num for num in numbers if num > 0]\n",
    "\n",
    "# Calculate mean and standard deviation\n",
    "mean = np.mean(positive_numbers)\n",
    "stddev = np.std(positive_numbers)\n",
    "\n",
    "# Calculate and write Gaussian CDF for each number\n",
    "with open(dst, \"w\") as file:\n",
    "    for number in numbers:\n",
    "        if (number == 0): cdf = 0\n",
    "        else: cdf = norm.cdf(number, mean, stddev)\n",
    "        file.write(f\"{number}\\t\\t{cdf}\\n\")\n",
    "\n",
    "print(\"Gaussian CDF calculated and written to\", dst)\n",
    "\n"
   ]
  }
 ],
 "metadata": {
  "kernelspec": {
   "display_name": "Python 3",
   "language": "python",
   "name": "python3"
  },
  "language_info": {
   "codemirror_mode": {
    "name": "ipython",
    "version": 3
   },
   "file_extension": ".py",
   "mimetype": "text/x-python",
   "name": "python",
   "nbconvert_exporter": "python",
   "pygments_lexer": "ipython3",
   "version": "3.9.13"
  }
 },
 "nbformat": 4,
 "nbformat_minor": 2
}
