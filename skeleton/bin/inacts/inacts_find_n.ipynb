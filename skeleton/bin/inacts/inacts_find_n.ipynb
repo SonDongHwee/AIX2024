{
 "cells": [
  {
   "cell_type": "code",
   "execution_count": 42,
   "metadata": {},
   "outputs": [],
   "source": [
    "import numpy as np\n",
    "\n",
    "# Function to read numbers from a text file\n",
    "def read_numbers_from_file(file_path):\n",
    "    with open(file_path, 'r') as file:\n",
    "        numbers = [float(line.strip()) for line in file]\n",
    "    return numbers\n",
    "\n",
    "# Function to calculate mean squared error\n",
    "def calculate_mse(original_values, approx_values):\n",
    "    squared_errors = [(orig - approx) ** 2 for orig, approx in zip(original_values, approx_values)]\n",
    "    mse = np.mean(squared_errors)\n",
    "    return mse\n",
    "\n",
    "# Function to clip fixed-point numbers to 8-bit two's complement range\n",
    "def clip_to_8_bit_twos_complement(value):\n",
    "    return max(-127, min(128, round(value)))\n",
    "\n",
    "# Function to clip fixed-point numbers to 8-bit unsigned range\n",
    "def clip_to_8_bit_unsigned(value):\n",
    "    return max(0, min(255, round(value)))"
   ]
  },
  {
   "cell_type": "code",
   "execution_count": 43,
   "metadata": {},
   "outputs": [],
   "source": [
    "def find_minimum_n(file_path):\n",
    "    # Read floating-point numbers from the text file\n",
    "    floating_numbers = read_numbers_from_file(file_path)\n",
    "\n",
    "    min_mse = float('inf')\n",
    "    best_n = None\n",
    "\n",
    "    print(\"n\\tMSE\")\n",
    "    print(\"-\" * 15)\n",
    "\n",
    "    # Iterate over the range of n (1 to 11)\n",
    "    for n in range(1, 12):\n",
    "        # Convert floating-point numbers to fixed-point numbers with clipping\n",
    "        fixed_point_numbers = [clip_to_8_bit_twos_complement(num * (2 ** n)) for num in floating_numbers]\n",
    "        \n",
    "        # Convert fixed-point numbers back to floating-point numbers\n",
    "        approx_floating_numbers = [num / (2 ** n) for num in fixed_point_numbers]\n",
    "        \n",
    "        # Calculate mean squared error\n",
    "        mse = calculate_mse(floating_numbers, approx_floating_numbers)\n",
    "        \n",
    "        # Print the MSE for the current value of n\n",
    "        print(f\"{n}\\t{mse}\")\n",
    "        \n",
    "        # Update the minimum MSE and the corresponding n\n",
    "        if mse < min_mse:\n",
    "            min_mse = mse\n",
    "            best_n = n\n",
    "\n",
    "    print(\"-\" * 15)\n",
    "    print(\"Best n:\", best_n)\n",
    "    print(\"Minimum Mean Squared Error:\", min_mse)\n",
    "    return"
   ]
  },
  {
   "cell_type": "code",
   "execution_count": 44,
   "metadata": {},
   "outputs": [
    {
     "name": "stdout",
     "output_type": "stream",
     "text": [
      "n\tMSE\n",
      "---------------\n",
      "1\t0.009564500709542326\n",
      "2\t0.004857867446145108\n",
      "3\t0.0012081306062530375\n",
      "4\t0.00032913231414386646\n",
      "5\t8.056418562480807e-05\n",
      "6\t2.0004763519654663e-05\n",
      "7\t4.669171249757198e-06\n",
      "8\t0.007968604074538836\n",
      "9\t0.08093042551267281\n",
      "10\t0.15794583610420865\n",
      "11\t0.2073958058666072\n",
      "---------------\n",
      "Best n: 7\n",
      "Minimum Mean Squared Error: 4.669171249757198e-06\n"
     ]
    }
   ],
   "source": [
    "find_minimum_n('./CONV00_inputs.txt')"
   ]
  },
  {
   "cell_type": "code",
   "execution_count": 45,
   "metadata": {},
   "outputs": [
    {
     "name": "stdout",
     "output_type": "stream",
     "text": [
      "n\tMSE\n",
      "---------------\n",
      "1\t0.0159135335779537\n",
      "2\t0.00399445279668463\n",
      "3\t0.0010031767032779525\n",
      "4\t0.0057987927125610185\n",
      "5\t0.08523082673347128\n",
      "6\t0.29973220098183395\n",
      "7\t0.5688430671528991\n",
      "8\t0.8246521849667305\n",
      "9\t1.0236132362183576\n",
      "10\t1.1501614319189764\n",
      "11\t1.2214441627880435\n",
      "---------------\n",
      "Best n: 3\n",
      "Minimum Mean Squared Error: 0.0010031767032779525\n"
     ]
    }
   ],
   "source": [
    "find_minimum_n('./CONV02_inputs.txt')"
   ]
  },
  {
   "cell_type": "code",
   "execution_count": 46,
   "metadata": {},
   "outputs": [
    {
     "name": "stdout",
     "output_type": "stream",
     "text": [
      "n\tMSE\n",
      "---------------\n",
      "1\t0.013500134965921137\n",
      "2\t0.003632869443307609\n",
      "3\t0.0009100072822243879\n",
      "4\t0.0002716286537511058\n",
      "5\t0.0032296008554274745\n",
      "6\t0.041477640218167994\n",
      "7\t0.14150828669766613\n",
      "8\t0.2657718486506001\n",
      "9\t0.3815564200159573\n",
      "10\t0.46322088380338383\n",
      "11\t0.5110615249392656\n",
      "---------------\n",
      "Best n: 4\n",
      "Minimum Mean Squared Error: 0.0002716286537511058\n"
     ]
    }
   ],
   "source": [
    "find_minimum_n('./CONV04_inputs.txt')"
   ]
  },
  {
   "cell_type": "code",
   "execution_count": 47,
   "metadata": {},
   "outputs": [
    {
     "name": "stdout",
     "output_type": "stream",
     "text": [
      "n\tMSE\n",
      "---------------\n",
      "1\t0.010960538279437514\n",
      "2\t0.002794777787799331\n",
      "3\t0.0007103896700472557\n",
      "4\t0.0001752040252871239\n",
      "5\t0.0011737705012793266\n",
      "6\t0.01955481679943034\n",
      "7\t0.08599781295387934\n",
      "8\t0.18471359156484313\n",
      "9\t0.277548867510209\n",
      "10\t0.34169001271663607\n",
      "11\t0.37912800684099657\n",
      "---------------\n",
      "Best n: 4\n",
      "Minimum Mean Squared Error: 0.0001752040252871239\n"
     ]
    }
   ],
   "source": [
    "find_minimum_n('./CONV06_inputs.txt')"
   ]
  },
  {
   "cell_type": "code",
   "execution_count": 48,
   "metadata": {},
   "outputs": [
    {
     "name": "stdout",
     "output_type": "stream",
     "text": [
      "n\tMSE\n",
      "---------------\n"
     ]
    },
    {
     "name": "stdout",
     "output_type": "stream",
     "text": [
      "1\t0.010102374228911193\n",
      "2\t0.002536573917631898\n",
      "3\t0.0006290500119922489\n",
      "4\t0.0001598040410373539\n",
      "5\t0.0009299635753963322\n",
      "6\t0.021720382855763228\n",
      "7\t0.09852211430840949\n",
      "8\t0.2076892126579652\n",
      "9\t0.3038615509773279\n",
      "10\t0.36787084081447363\n",
      "11\t0.4046911388361041\n",
      "---------------\n",
      "Best n: 4\n",
      "Minimum Mean Squared Error: 0.0001598040410373539\n"
     ]
    }
   ],
   "source": [
    "find_minimum_n('./CONV08_inputs.txt')"
   ]
  },
  {
   "cell_type": "code",
   "execution_count": 49,
   "metadata": {},
   "outputs": [
    {
     "name": "stdout",
     "output_type": "stream",
     "text": [
      "n\tMSE\n",
      "---------------\n",
      "1\t0.01354055510215052\n",
      "2\t0.0034381913924337224\n"
     ]
    },
    {
     "name": "stdout",
     "output_type": "stream",
     "text": [
      "3\t0.0008657823099447087\n",
      "4\t0.0028635385194326225\n",
      "5\t0.10111048413172968\n",
      "6\t0.5114466994654966\n",
      "7\t1.1342981330911184\n",
      "8\t1.6869261834114433\n",
      "9\t2.0541424853816554\n",
      "10\t2.264637980067164\n",
      "11\t2.3771093399239662\n",
      "---------------\n",
      "Best n: 3\n",
      "Minimum Mean Squared Error: 0.0008657823099447087\n"
     ]
    }
   ],
   "source": [
    "find_minimum_n('./CONV10_inputs.txt')"
   ]
  },
  {
   "cell_type": "code",
   "execution_count": 50,
   "metadata": {},
   "outputs": [
    {
     "name": "stdout",
     "output_type": "stream",
     "text": [
      "n\tMSE\n",
      "---------------\n",
      "1\t0.011653489428333436\n",
      "2\t0.0029033978952828993\n",
      "3\t0.0007484590037576311\n",
      "4\t0.00018481557957092447\n",
      "5\t0.005472368135131989\n",
      "6\t0.10051968418383041\n",
      "7\t0.4002844973189346\n",
      "8\t0.7422407868102268\n",
      "9\t0.9883193751706807\n",
      "10\t1.1340290534499735\n",
      "11\t1.2130211985884016\n",
      "---------------\n",
      "Best n: 4\n",
      "Minimum Mean Squared Error: 0.00018481557957092447\n"
     ]
    }
   ],
   "source": [
    "find_minimum_n('./CONV12_inputs.txt')"
   ]
  },
  {
   "cell_type": "code",
   "execution_count": 51,
   "metadata": {},
   "outputs": [
    {
     "name": "stdout",
     "output_type": "stream",
     "text": [
      "n\tMSE\n",
      "---------------\n",
      "1\t0.007002573528379439\n",
      "2\t0.0017319564779033642\n",
      "3\t0.00042846600976371573\n",
      "4\t0.00010771586861991691\n",
      "5\t0.00045943726792716785\n",
      "6\t0.01876027461875343\n",
      "7\t0.09565537692965889\n",
      "8\t0.20694230377300882\n",
      "9\t0.29817895285648666\n",
      "10\t0.3557760594848474\n",
      "11\t0.38801412620537784\n",
      "---------------\n",
      "Best n: 4\n",
      "Minimum Mean Squared Error: 0.00010771586861991691\n"
     ]
    }
   ],
   "source": [
    "find_minimum_n('./CONV13_inputs.txt')"
   ]
  },
  {
   "cell_type": "code",
   "execution_count": 52,
   "metadata": {},
   "outputs": [
    {
     "name": "stdout",
     "output_type": "stream",
     "text": [
      "n\tMSE\n",
      "---------------\n"
     ]
    },
    {
     "name": "stdout",
     "output_type": "stream",
     "text": [
      "1\t0.010020370328883015\n",
      "2\t0.00247559111699947\n",
      "3\t0.0006357307671154369\n",
      "4\t0.00016582958749660143\n",
      "5\t0.01548175752597698\n",
      "6\t0.1438122922039593\n",
      "7\t0.42302635278118983\n",
      "8\t0.7121495096629942\n",
      "9\t0.9169226307750535\n",
      "10\t1.0379826734705428\n",
      "11\t1.1036629146705415\n",
      "---------------\n",
      "Best n: 4\n",
      "Minimum Mean Squared Error: 0.00016582958749660143\n"
     ]
    }
   ],
   "source": [
    "find_minimum_n('./CONV14_inputs.txt')"
   ]
  },
  {
   "cell_type": "code",
   "execution_count": 53,
   "metadata": {},
   "outputs": [
    {
     "name": "stdout",
     "output_type": "stream",
     "text": [
      "n\tMSE\n",
      "---------------\n",
      "1\t0.007002573528379439\n",
      "2\t0.0017319564779033642\n"
     ]
    },
    {
     "name": "stdout",
     "output_type": "stream",
     "text": [
      "3\t0.00042846600976371573\n",
      "4\t0.00010771586861991691\n",
      "5\t0.00045943726792716785\n",
      "6\t0.01876027461875343\n",
      "7\t0.09565537692965889\n",
      "8\t0.20694230377300882\n",
      "9\t0.29817895285648666\n",
      "10\t0.3557760594848474\n",
      "11\t0.38801412620537784\n",
      "---------------\n",
      "Best n: 4\n",
      "Minimum Mean Squared Error: 0.00010771586861991691\n"
     ]
    }
   ],
   "source": [
    "find_minimum_n('./CONV17_inputs.txt')"
   ]
  },
  {
   "cell_type": "code",
   "execution_count": 54,
   "metadata": {},
   "outputs": [
    {
     "name": "stdout",
     "output_type": "stream",
     "text": [
      "n\tMSE\n",
      "---------------\n",
      "1\t0.008496713199334831\n",
      "2\t0.0021244292889649585\n",
      "3\t0.0005336129462423838\n",
      "4\t0.0007448737134415819\n",
      "5\t0.040762449957719535\n",
      "6\t0.22764676956356913\n",
      "7\t0.5246069751556179\n",
      "8\t0.7990154560595181\n",
      "9\t0.9866785789608752\n",
      "10\t1.09622471398585\n",
      "11\t1.1553384274300287\n",
      "---------------\n",
      "Best n: 3\n",
      "Minimum Mean Squared Error: 0.0005336129462423838\n"
     ]
    }
   ],
   "source": [
    "find_minimum_n('./CONV20_inputs.txt')"
   ]
  }
 ],
 "metadata": {
  "kernelspec": {
   "display_name": "base",
   "language": "python",
   "name": "python3"
  },
  "language_info": {
   "codemirror_mode": {
    "name": "ipython",
    "version": 3
   },
   "file_extension": ".py",
   "mimetype": "text/x-python",
   "name": "python",
   "nbconvert_exporter": "python",
   "pygments_lexer": "ipython3",
   "version": "3.9.13"
  }
 },
 "nbformat": 4,
 "nbformat_minor": 2
}
