{
 "cells": [
  {
   "cell_type": "code",
   "execution_count": null,
   "metadata": {},
   "outputs": [],
   "source": [
    "import numpy as np"
   ]
  },
  {
   "cell_type": "code",
   "execution_count": null,
   "metadata": {},
   "outputs": [],
   "source": [
    "loaded_weights = np.fromfile('../aix2024.weights', dtype='f')"
   ]
  },
  {
   "cell_type": "code",
   "execution_count": null,
   "metadata": {},
   "outputs": [],
   "source": [
    "#conv0\n",
    "n = loaded_weights.size\n",
    "conv0_first = 5\n",
    "conv0_end = conv0_first + 64 + 432\n",
    "\n",
    "for i in range(conv0_first, 16): # Get rid of the first 5 elements\n",
    "    print(loaded_weights[i])"
   ]
  },
  {
   "cell_type": "code",
   "execution_count": null,
   "metadata": {},
   "outputs": [],
   "source": [
    "#conv2\n",
    "n = loaded_weights.size\n",
    "conv2_first = conv0_end\n",
    "conv2_end = conv2_first + 128 + 4608\n",
    "\n",
    "for i in range(conv2_first, conv2_first+32): # Get rid of the first 5 elements\n",
    "    print(loaded_weights[i])"
   ]
  },
  {
   "cell_type": "code",
   "execution_count": null,
   "metadata": {},
   "outputs": [],
   "source": [
    "#conv4\n",
    "n = loaded_weights.size\n",
    "conv4_first = conv2_end \n",
    "conv4_end = conv4_first + 256 + 18432\n",
    "\n",
    "for i in range(conv4_first, conv4_first+64): # Get rid of the first 5 elements\n",
    "    print(loaded_weights[i])"
   ]
  },
  {
   "cell_type": "code",
   "execution_count": null,
   "metadata": {},
   "outputs": [],
   "source": [
    "#conv6\n",
    "n = loaded_weights.size\n",
    "conv6_first = conv4_end \n",
    "conv6_end = conv6_first + 512 + 73728\n",
    "\n",
    "for i in range(conv6_first, conv6_first+128): # Get rid of the first 5 elements\n",
    "    print(loaded_weights[i])"
   ]
  },
  {
   "cell_type": "code",
   "execution_count": null,
   "metadata": {},
   "outputs": [],
   "source": [
    "#conv8\n",
    "n = loaded_weights.size\n",
    "conv8_first = conv6_end \n",
    "conv8_end = conv8_first + 1024 + 294912\n",
    "\n",
    "for i in range(conv8_first, conv8_first+256): # Get rid of the first 5 elements\n",
    "    print(loaded_weights[i])"
   ]
  },
  {
   "cell_type": "code",
   "execution_count": null,
   "metadata": {},
   "outputs": [],
   "source": [
    "#conv10\n",
    "n = loaded_weights.size\n",
    "conv10_first = conv8_end \n",
    "conv10_end = conv10_first + 2048 + 1179648\n",
    "\n",
    "for i in range(conv10_first, conv10_first+512): # Get rid of the first 5 elements\n",
    "    print(loaded_weights[i])"
   ]
  },
  {
   "cell_type": "code",
   "execution_count": null,
   "metadata": {},
   "outputs": [],
   "source": [
    "#conv12\n",
    "n = loaded_weights.size\n",
    "conv12_first = conv10_end \n",
    "conv12_end = conv12_first + 1024 + 131072\n",
    "\n",
    "for i in range(conv12_first, conv12_first+256): # Get rid of the first 5 elements\n",
    "    print(loaded_weights[i])"
   ]
  },
  {
   "cell_type": "code",
   "execution_count": null,
   "metadata": {},
   "outputs": [],
   "source": [
    "#conv13\n",
    "n = loaded_weights.size\n",
    "conv13_first = conv12_end \n",
    "conv13_end = conv13_first + 2048 + 1179648\n",
    "\n",
    "for i in range(conv13_first, conv13_first+512): # Get rid of the first 5 elements\n",
    "    print(loaded_weights[i])"
   ]
  },
  {
   "cell_type": "code",
   "execution_count": null,
   "metadata": {},
   "outputs": [],
   "source": [
    "#conv14\n",
    "n = loaded_weights.size\n",
    "conv14_first = conv13_end \n",
    "conv14_end = conv14_first + 195 + 99840\n",
    "\n",
    "for i in range(conv14_first, conv14_first+195): # Get rid of the first 5 elements\n",
    "    print(loaded_weights[i])"
   ]
  },
  {
   "cell_type": "code",
   "execution_count": null,
   "metadata": {},
   "outputs": [],
   "source": [
    "#conv17\n",
    "n = loaded_weights.size\n",
    "conv17_first = conv14_end \n",
    "conv17_end = conv17_first + 512 + 32768\n",
    "\n",
    "for i in range(conv17_first, conv17_first+128): # Get rid of the first 5 elements\n",
    "    print(loaded_weights[i])"
   ]
  },
  {
   "cell_type": "code",
   "execution_count": null,
   "metadata": {},
   "outputs": [],
   "source": [
    "#conv20\n",
    "n = loaded_weights.size\n",
    "conv20_first = conv17_end\n",
    "conv20_end = conv20_first  + 195 + 74880\n",
    "\n",
    "for i in range(conv20_first, conv20_first+195): # Get rid of the first 5 elements\n",
    "    print(loaded_weights[i])"
   ]
  },
  {
   "cell_type": "code",
   "execution_count": null,
   "metadata": {},
   "outputs": [],
   "source": [
    "print(conv20_end)"
   ]
  }
 ],
 "metadata": {
  "kernelspec": {
   "display_name": "env_dsd",
   "language": "python",
   "name": "python3"
  },
  "language_info": {
   "codemirror_mode": {
    "name": "ipython",
    "version": 3
   },
   "file_extension": ".py",
   "mimetype": "text/x-python",
   "name": "python",
   "nbconvert_exporter": "python",
   "pygments_lexer": "ipython3",
   "version": "3.9.13"
  }
 },
 "nbformat": 4,
 "nbformat_minor": 2
}
