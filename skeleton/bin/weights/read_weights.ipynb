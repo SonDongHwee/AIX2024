{
 "cells": [
  {
   "cell_type": "code",
   "execution_count": 1,
   "metadata": {},
   "outputs": [],
   "source": [
    "import numpy as np\n",
    "from scipy.stats import norm"
   ]
  },
  {
   "cell_type": "code",
   "execution_count": 2,
   "metadata": {},
   "outputs": [],
   "source": [
    "loaded_weights = np.fromfile('../aix2024.weights', dtype='f')"
   ]
  },
  {
   "cell_type": "code",
   "execution_count": null,
   "metadata": {},
   "outputs": [],
   "source": [
    "#conv0\n",
    "n = loaded_weights.size\n",
    "conv0_first = 5 + 64\n",
    "conv0_end = conv0_first + 432\n",
    "data = []\n",
    "for i in range(conv0_first, conv0_end): # Get rid of the first 5 elements\n",
    "    # print(loaded_weights[i])\n",
    "    data.append(loaded_weights[i])"
   ]
  },
  {
   "cell_type": "code",
   "execution_count": null,
   "metadata": {},
   "outputs": [],
   "source": [
    "#Print the weights\n",
    "for weight in data:\n",
    "    print(weight)"
   ]
  },
  {
   "cell_type": "code",
   "execution_count": null,
   "metadata": {},
   "outputs": [],
   "source": [
    "#Store the weights\n",
    "with open(\"./CONV00_weights.txt\", \"w\") as file:\n",
    "    for weight in data:\n",
    "        file.write(str(weight) + \"\\n\")"
   ]
  },
  {
   "cell_type": "code",
   "execution_count": null,
   "metadata": {},
   "outputs": [],
   "source": [
    "#CDF of conv0 weights (sorted)\n",
    "data = np.sort(data)\n",
    "mean = np.mean(data)\n",
    "stdev = np.std(data)\n",
    "\n",
    "cdf = norm.cdf(data, loc=mean, scale=stdev)\n",
    "\n",
    "for prob in cdf:\n",
    "    print(prob)"
   ]
  },
  {
   "cell_type": "code",
   "execution_count": null,
   "metadata": {},
   "outputs": [],
   "source": [
    "#conv2\n",
    "n = loaded_weights.size\n",
    "conv2_first = conv0_end + 128\n",
    "conv2_end = conv2_first + 4608\n",
    "data = []\n",
    "for i in range(conv2_first, conv2_end): # Get rid of the first 5 elements\n",
    "    # print(loaded_weights[i])\n",
    "    data.append(loaded_weights[i])"
   ]
  },
  {
   "cell_type": "code",
   "execution_count": null,
   "metadata": {},
   "outputs": [],
   "source": [
    "#Print the weights\n",
    "for weight in data:\n",
    "    print(weight)"
   ]
  },
  {
   "cell_type": "code",
   "execution_count": null,
   "metadata": {},
   "outputs": [],
   "source": [
    "#Store the weights\n",
    "with open(\"./CONV02_weights.txt\", \"w\") as file:\n",
    "    for weight in data:\n",
    "        file.write(str(weight) + \"\\n\")"
   ]
  },
  {
   "cell_type": "code",
   "execution_count": null,
   "metadata": {},
   "outputs": [],
   "source": [
    "#CDF of conv2 weights (sorted)\n",
    "data = np.sort(data)\n",
    "mean = np.mean(data)\n",
    "stdev = np.std(data)\n",
    "\n",
    "cdf = norm.cdf(data, loc=mean, scale=stdev)\n",
    "\n",
    "for prob in cdf:\n",
    "    print(prob)"
   ]
  },
  {
   "cell_type": "code",
   "execution_count": null,
   "metadata": {},
   "outputs": [],
   "source": [
    "#conv4\n",
    "n = loaded_weights.size\n",
    "conv4_first = conv2_end + 256\n",
    "conv4_end = conv4_first + 18432\n",
    "data = []\n",
    "for i in range(conv4_first, conv4_end): # Get rid of the first 5 elements\n",
    "    # print(loaded_weights[i])\n",
    "    data.append(loaded_weights[i])"
   ]
  },
  {
   "cell_type": "code",
   "execution_count": null,
   "metadata": {},
   "outputs": [],
   "source": [
    "#Print the weights\n",
    "for weight in data:\n",
    "    print(weight)"
   ]
  },
  {
   "cell_type": "code",
   "execution_count": null,
   "metadata": {},
   "outputs": [],
   "source": [
    "#Store the weights\n",
    "with open(\"./CONV04_weights.txt\", \"w\") as file:\n",
    "    for weight in data:\n",
    "        file.write(str(weight) + \"\\n\")"
   ]
  },
  {
   "cell_type": "code",
   "execution_count": null,
   "metadata": {},
   "outputs": [],
   "source": [
    "#CDF of conv4 weights (sorted)\n",
    "data = np.sort(data)\n",
    "mean = np.mean(data)\n",
    "stdev = np.std(data)\n",
    "\n",
    "cdf = norm.cdf(data, loc=mean, scale=stdev)\n",
    "\n",
    "for prob in cdf:\n",
    "    print(prob)"
   ]
  },
  {
   "cell_type": "code",
   "execution_count": null,
   "metadata": {},
   "outputs": [],
   "source": [
    "#conv6\n",
    "n = loaded_weights.size\n",
    "conv6_first = conv4_end + 512\n",
    "conv6_end = conv6_first + 73728\n",
    "data = []\n",
    "for i in range(conv6_first, conv6_end): # Get rid of the first 5 elements\n",
    "    # print(loaded_weights[i])\n",
    "    data.append(loaded_weights[i])"
   ]
  },
  {
   "cell_type": "code",
   "execution_count": null,
   "metadata": {},
   "outputs": [],
   "source": [
    "#Print the weights\n",
    "for weight in data:\n",
    "    print(weight)"
   ]
  },
  {
   "cell_type": "code",
   "execution_count": null,
   "metadata": {},
   "outputs": [],
   "source": [
    "#Store the weights\n",
    "with open(\"./CONV06_weights.txt\", \"w\") as file:\n",
    "    for weight in data:\n",
    "        file.write(str(weight) + \"\\n\")"
   ]
  },
  {
   "cell_type": "code",
   "execution_count": null,
   "metadata": {},
   "outputs": [],
   "source": [
    "#CDF of conv6 weights (sorted)\n",
    "data = np.sort(data)\n",
    "mean = np.mean(data)\n",
    "stdev = np.std(data)\n",
    "\n",
    "cdf = norm.cdf(data, loc=mean, scale=stdev)\n",
    "\n",
    "for prob in cdf:\n",
    "    print(prob)"
   ]
  },
  {
   "cell_type": "code",
   "execution_count": null,
   "metadata": {},
   "outputs": [],
   "source": [
    "#conv8\n",
    "n = loaded_weights.size\n",
    "conv8_first = conv6_end + 1024\n",
    "conv8_end = conv8_first + 294912\n",
    "data = []\n",
    "for i in range(conv8_first, conv8_end): # Get rid of the first 5 elements\n",
    "    # print(loaded_weights[i])\n",
    "    data.append(loaded_weights[i])"
   ]
  },
  {
   "cell_type": "code",
   "execution_count": null,
   "metadata": {},
   "outputs": [],
   "source": [
    "#Print the weights\n",
    "for weight in data:\n",
    "    print(weight)"
   ]
  },
  {
   "cell_type": "code",
   "execution_count": null,
   "metadata": {},
   "outputs": [],
   "source": [
    "#Store the weights\n",
    "with open(\"./CONV08_weights.txt\", \"w\") as file:\n",
    "    for weight in data:\n",
    "        file.write(str(weight) + \"\\n\")"
   ]
  },
  {
   "cell_type": "code",
   "execution_count": null,
   "metadata": {},
   "outputs": [],
   "source": [
    "#CDF of conv8 weights (sorted)\n",
    "data = np.sort(data)\n",
    "mean = np.mean(data)\n",
    "stdev = np.std(data)\n",
    "\n",
    "cdf = norm.cdf(data, loc=mean, scale=stdev)\n",
    "\n",
    "for prob in cdf:\n",
    "    print(prob)"
   ]
  },
  {
   "cell_type": "code",
   "execution_count": null,
   "metadata": {},
   "outputs": [],
   "source": [
    "#conv10\n",
    "n = loaded_weights.size\n",
    "conv10_first = conv8_end + 2048\n",
    "conv10_end = conv10_first + 1179648\n",
    "data = []\n",
    "for i in range(conv10_first, conv10_end): # Get rid of the first 5 elements\n",
    "    # print(loaded_weights[i])\n",
    "    data.append(loaded_weights[i])"
   ]
  },
  {
   "cell_type": "code",
   "execution_count": null,
   "metadata": {},
   "outputs": [],
   "source": [
    "#Print the weights (2 numbers in each line)\n",
    "for j in range(len(data)):\n",
    "    if (j&1): print(data[j])\n",
    "    else: print(data[j], end=\" \")"
   ]
  },
  {
   "cell_type": "code",
   "execution_count": null,
   "metadata": {},
   "outputs": [],
   "source": [
    "#Store the weights\n",
    "with open(\"./CONV10_weights.txt\", \"w\") as file:\n",
    "    for weight in data:\n",
    "        file.write(str(weight) + \"\\n\")"
   ]
  },
  {
   "cell_type": "code",
   "execution_count": null,
   "metadata": {},
   "outputs": [],
   "source": [
    "#CDF of conv10 weights (sorted)\n",
    "data = np.sort(data)\n",
    "mean = np.mean(data)\n",
    "stdev = np.std(data)\n",
    "\n",
    "cdf = norm.cdf(data, loc=mean, scale=stdev)\n",
    "\n",
    "for k in range(len(cdf)):\n",
    "    if (k&1): print(cdf[k])\n",
    "    else: print(cdf[k], end=\" \")"
   ]
  },
  {
   "cell_type": "code",
   "execution_count": null,
   "metadata": {},
   "outputs": [],
   "source": [
    "#conv12\n",
    "n = loaded_weights.size\n",
    "conv12_first = conv10_end + 1024\n",
    "conv12_end = conv12_first + 131072\n",
    "data = []\n",
    "for i in range(conv12_first, conv12_end): # Get rid of the first 5 elements\n",
    "    # print(loaded_weights[i])\n",
    "    data.append(loaded_weights[i])"
   ]
  },
  {
   "cell_type": "code",
   "execution_count": null,
   "metadata": {},
   "outputs": [],
   "source": [
    "#Print the weights\n",
    "for weight in data:\n",
    "    print(weight)"
   ]
  },
  {
   "cell_type": "code",
   "execution_count": null,
   "metadata": {},
   "outputs": [],
   "source": [
    "#Store the weights\n",
    "with open(\"./CONV12_weights.txt\", \"w\") as file:\n",
    "    for weight in data:\n",
    "        file.write(str(weight) + \"\\n\")"
   ]
  },
  {
   "cell_type": "code",
   "execution_count": null,
   "metadata": {},
   "outputs": [],
   "source": [
    "#CDF of conv12 weights (sorted)\n",
    "data = np.sort(data)\n",
    "mean = np.mean(data)\n",
    "stdev = np.std(data)\n",
    "\n",
    "cdf = norm.cdf(data, loc=mean, scale=stdev)\n",
    "\n",
    "for prob in cdf:\n",
    "    print(prob)"
   ]
  },
  {
   "cell_type": "code",
   "execution_count": null,
   "metadata": {},
   "outputs": [],
   "source": [
    "#conv13\n",
    "n = loaded_weights.size\n",
    "conv13_first = conv12_end + 2048\n",
    "conv13_end = conv13_first + 1179648\n",
    "data = []\n",
    "for i in range(conv13_first, conv13_end): # Get rid of the first 5 elements\n",
    "    # print(loaded_weights[i])\n",
    "    data.append(loaded_weights[i])"
   ]
  },
  {
   "cell_type": "code",
   "execution_count": null,
   "metadata": {},
   "outputs": [],
   "source": [
    "#Print the weights (2 numbers in each line)\n",
    "for j in range(len(data)):\n",
    "    if (j&1): print(data[j])\n",
    "    else: print(data[j], end=\" \")"
   ]
  },
  {
   "cell_type": "code",
   "execution_count": null,
   "metadata": {},
   "outputs": [],
   "source": [
    "#Store the weights\n",
    "with open(\"./CONV13_weights.txt\", \"w\") as file:\n",
    "    for weight in data:\n",
    "        file.write(str(weight) + \"\\n\")"
   ]
  },
  {
   "cell_type": "code",
   "execution_count": null,
   "metadata": {},
   "outputs": [],
   "source": [
    "#CDF of conv13 weights (sorted)\n",
    "data = np.sort(data)\n",
    "mean = np.mean(data)\n",
    "stdev = np.std(data)\n",
    "\n",
    "cdf = norm.cdf(data, loc=mean, scale=stdev)\n",
    "\n",
    "for k in range(len(cdf)):\n",
    "    if (k&1): print(cdf[k])\n",
    "    else: print(cdf[k], end=\" \")"
   ]
  },
  {
   "cell_type": "code",
   "execution_count": null,
   "metadata": {},
   "outputs": [],
   "source": [
    "#conv14\n",
    "n = loaded_weights.size\n",
    "conv14_first = conv13_end + 195\n",
    "conv14_end = conv14_first + 99840\n",
    "data = []\n",
    "for i in range(conv14_first, conv14_end): # Get rid of the first 5 elements\n",
    "    # print(loaded_weights[i])\n",
    "    data.append(loaded_weights[i])"
   ]
  },
  {
   "cell_type": "code",
   "execution_count": null,
   "metadata": {},
   "outputs": [],
   "source": [
    "#Print the weights\n",
    "for weight in data:\n",
    "    print(weight)"
   ]
  },
  {
   "cell_type": "code",
   "execution_count": null,
   "metadata": {},
   "outputs": [],
   "source": [
    "#Store the weights\n",
    "with open(\"./CONV14_weights.txt\", \"w\") as file:\n",
    "    for weight in data:\n",
    "        file.write(str(weight) + \"\\n\")"
   ]
  },
  {
   "cell_type": "code",
   "execution_count": null,
   "metadata": {},
   "outputs": [],
   "source": [
    "#CDF of conv14 weights (sorted)\n",
    "data = np.sort(data)\n",
    "mean = np.mean(data)\n",
    "stdev = np.std(data)\n",
    "\n",
    "cdf = norm.cdf(data, loc=mean, scale=stdev)\n",
    "\n",
    "for prob in cdf:\n",
    "    print(prob)"
   ]
  },
  {
   "cell_type": "code",
   "execution_count": null,
   "metadata": {},
   "outputs": [],
   "source": [
    "#conv17\n",
    "n = loaded_weights.size\n",
    "conv17_first = conv14_end + 512\n",
    "conv17_end = conv17_first + 32768\n",
    "data = []\n",
    "for i in range(conv17_first, conv17_end): # Get rid of the first 5 elements\n",
    "    # print(loaded_weights[i])\n",
    "    data.append(loaded_weights[i])"
   ]
  },
  {
   "cell_type": "code",
   "execution_count": null,
   "metadata": {},
   "outputs": [],
   "source": [
    "#Print the weights\n",
    "for weight in data:\n",
    "    print(weight)"
   ]
  },
  {
   "cell_type": "code",
   "execution_count": null,
   "metadata": {},
   "outputs": [],
   "source": [
    "#Store the weights\n",
    "with open(\"./CONV17_weights.txt\", \"w\") as file:\n",
    "    for weight in data:\n",
    "        file.write(str(weight) + \"\\n\")"
   ]
  },
  {
   "cell_type": "code",
   "execution_count": null,
   "metadata": {},
   "outputs": [],
   "source": [
    "#CDF of conv17 weights (sorted)\n",
    "data = np.sort(data)\n",
    "mean = np.mean(data)\n",
    "stdev = np.std(data)\n",
    "\n",
    "cdf = norm.cdf(data, loc=mean, scale=stdev)\n",
    "\n",
    "for prob in cdf:\n",
    "    print(prob)"
   ]
  },
  {
   "cell_type": "code",
   "execution_count": null,
   "metadata": {},
   "outputs": [],
   "source": [
    "#conv20\n",
    "n = loaded_weights.size\n",
    "conv20_first = conv17_end + 195\n",
    "conv20_end = conv20_first + 74880\n",
    "data = []\n",
    "for i in range(conv20_first, conv20_end): # Get rid of the first 5 elements\n",
    "    # print(loaded_weights[i])\n",
    "    data.append(loaded_weights[i])"
   ]
  },
  {
   "cell_type": "code",
   "execution_count": null,
   "metadata": {},
   "outputs": [],
   "source": [
    "#Print the weights\n",
    "for weight in data:\n",
    "    print(weight)"
   ]
  },
  {
   "cell_type": "code",
   "execution_count": null,
   "metadata": {},
   "outputs": [],
   "source": [
    "#Store the weights\n",
    "with open(\"./CONV20_weights.txt\", \"w\") as file:\n",
    "    for weight in data:\n",
    "        file.write(str(weight) + \"\\n\")"
   ]
  },
  {
   "cell_type": "code",
   "execution_count": null,
   "metadata": {},
   "outputs": [],
   "source": [
    "#CDF of conv20 weights (sorted)\n",
    "data = np.sort(data)\n",
    "mean = np.mean(data)\n",
    "stdev = np.std(data)\n",
    "\n",
    "cdf = norm.cdf(data, loc=mean, scale=stdev)\n",
    "\n",
    "for prob in cdf:\n",
    "    print(prob)"
   ]
  },
  {
   "cell_type": "code",
   "execution_count": null,
   "metadata": {},
   "outputs": [],
   "source": [
    "print(conv20_end)"
   ]
  },
  {
   "cell_type": "code",
   "execution_count": null,
   "metadata": {},
   "outputs": [],
   "source": []
  }
 ],
 "metadata": {
  "kernelspec": {
   "display_name": "env_dsd",
   "language": "python",
   "name": "python3"
  },
  "language_info": {
   "codemirror_mode": {
    "name": "ipython",
    "version": 3
   },
   "file_extension": ".py",
   "mimetype": "text/x-python",
   "name": "python",
   "nbconvert_exporter": "python",
   "pygments_lexer": "ipython3",
   "version": "3.9.13"
  }
 },
 "nbformat": 4,
 "nbformat_minor": 2
}
