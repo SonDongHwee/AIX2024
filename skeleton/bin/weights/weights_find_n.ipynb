{
 "cells": [
  {
   "cell_type": "code",
   "execution_count": 1,
   "metadata": {},
   "outputs": [],
   "source": [
    "import numpy as np\n",
    "\n",
    "# Function to read numbers from a text file\n",
    "def read_numbers_from_file(file_path):\n",
    "    with open(file_path, 'r') as file:\n",
    "        numbers = [float(line.strip()) for line in file]\n",
    "    return numbers\n",
    "\n",
    "# Function to calculate mean squared error\n",
    "def calculate_mse(original_values, approx_values):\n",
    "    squared_errors = [(orig - approx) ** 2 for orig, approx in zip(original_values, approx_values)]\n",
    "    mse = np.mean(squared_errors)\n",
    "    return mse\n",
    "\n",
    "# Function to clip fixed-point numbers to 8-bit two's complement range\n",
    "def clip_to_8_bit_twos_complement(value):\n",
    "    return max(-128, min(127, round(value)))"
   ]
  },
  {
   "cell_type": "code",
   "execution_count": 2,
   "metadata": {},
   "outputs": [],
   "source": [
    "def find_minimum_n(file_path):\n",
    "    # Read floating-point numbers from the text file\n",
    "    floating_numbers = read_numbers_from_file(file_path)\n",
    "\n",
    "    min_mse = float('inf')\n",
    "    best_n = None\n",
    "\n",
    "    print(\"n\\tMSE\")\n",
    "    print(\"-\" * 15)\n",
    "\n",
    "    # Iterate over the range of n (1 to 11)\n",
    "    for n in range(1, 12):\n",
    "        # Convert floating-point numbers to fixed-point numbers with clipping\n",
    "        fixed_point_numbers = [clip_to_8_bit_twos_complement(num * (2 ** n)) for num in floating_numbers]\n",
    "        \n",
    "        # Convert fixed-point numbers back to floating-point numbers\n",
    "        approx_floating_numbers = [num / (2 ** n) for num in fixed_point_numbers]\n",
    "        \n",
    "        # Calculate mean squared error\n",
    "        mse = calculate_mse(floating_numbers, approx_floating_numbers)\n",
    "        \n",
    "        # Print the MSE for the current value of n\n",
    "        print(f\"{n}\\t{mse}\")\n",
    "        \n",
    "        # Update the minimum MSE and the corresponding n\n",
    "        if mse < min_mse:\n",
    "            min_mse = mse\n",
    "            best_n = n\n",
    "\n",
    "    print(\"-\" * 15)\n",
    "    print(\"Best n:\", best_n)\n",
    "    print(\"Minimum Mean Squared Error:\", min_mse)\n",
    "    return"
   ]
  },
  {
   "cell_type": "code",
   "execution_count": 3,
   "metadata": {},
   "outputs": [
    {
     "name": "stdout",
     "output_type": "stream",
     "text": [
      "n\tMSE\n",
      "---------------\n",
      "1\t0.020548312348480473\n",
      "2\t0.005127862209591585\n",
      "3\t0.001268813932392512\n",
      "4\t0.00032094928540177107\n",
      "5\t8.714674243302109e-05\n",
      "6\t1.8033928920289605e-05\n",
      "7\t0.006216653741865169\n",
      "8\t0.04747423595448272\n",
      "9\t0.10808768780973717\n",
      "10\t0.15915096343133864\n",
      "11\t0.19251732799729607\n",
      "---------------\n",
      "Best n: 6\n",
      "Minimum Mean Squared Error: 1.8033928920289605e-05\n"
     ]
    }
   ],
   "source": [
    "find_minimum_n('./CONV00_weights.txt')"
   ]
  },
  {
   "cell_type": "code",
   "execution_count": 4,
   "metadata": {},
   "outputs": [
    {
     "name": "stdout",
     "output_type": "stream",
     "text": [
      "n\tMSE\n",
      "---------------\n",
      "1\t0.014023792563372732\n",
      "2\t0.0050105677966626625\n",
      "3\t0.001307275949928721\n",
      "4\t0.0003202014219339294\n",
      "5\t8.208298851650315e-05\n",
      "6\t2.0562461908565878e-05\n",
      "7\t1.583472047044196e-05\n",
      "8\t0.0008764472058426886\n",
      "9\t0.004390741560894195\n",
      "10\t0.010783179847079664\n",
      "11\t0.017652790772645772\n",
      "---------------\n",
      "Best n: 7\n",
      "Minimum Mean Squared Error: 1.583472047044196e-05\n"
     ]
    }
   ],
   "source": [
    "find_minimum_n('./CONV02_weights.txt')"
   ]
  },
  {
   "cell_type": "code",
   "execution_count": 5,
   "metadata": {},
   "outputs": [
    {
     "name": "stdout",
     "output_type": "stream",
     "text": [
      "n\tMSE\n",
      "---------------\n",
      "1\t0.008467829852106997\n",
      "2\t0.004407418632488941\n",
      "3\t0.0012940302322882037\n",
      "4\t0.0003271563486212114\n",
      "5\t8.073261257452627e-05\n",
      "6\t2.0363787927682475e-05\n",
      "7\t5.0941938097761195e-06\n",
      "8\t1.9925658935347475e-05\n",
      "9\t0.00025546164019365505\n",
      "10\t0.0014440833093510182\n",
      "11\t0.0038253174439928797\n",
      "---------------\n",
      "Best n: 7\n",
      "Minimum Mean Squared Error: 5.0941938097761195e-06\n"
     ]
    }
   ],
   "source": [
    "find_minimum_n('./CONV04_weights.txt')"
   ]
  },
  {
   "cell_type": "code",
   "execution_count": 6,
   "metadata": {},
   "outputs": [
    {
     "name": "stdout",
     "output_type": "stream",
     "text": [
      "n\tMSE\n",
      "---------------\n",
      "1\t0.0037439001310740436\n",
      "2\t0.002960825942638171\n",
      "3\t0.0012439766473229584\n",
      "4\t0.0003241914494859766\n",
      "5\t8.125170455358997e-05\n",
      "6\t2.0409315705391202e-05\n",
      "7\t5.082486958659126e-06\n",
      "8\t2.666343724332021e-06\n",
      "9\t1.543826506397635e-05\n",
      "10\t0.00015138900349472568\n",
      "11\t0.0007447440686890046\n",
      "---------------\n",
      "Best n: 8\n",
      "Minimum Mean Squared Error: 2.666343724332021e-06\n"
     ]
    }
   ],
   "source": [
    "find_minimum_n('./CONV06_weights.txt')"
   ]
  },
  {
   "cell_type": "code",
   "execution_count": 7,
   "metadata": {},
   "outputs": [
    {
     "name": "stdout",
     "output_type": "stream",
     "text": [
      "n\tMSE\n",
      "---------------\n",
      "1\t0.0015168448618042107\n",
      "2\t0.0013811646292602657\n",
      "3\t0.0009118158765950637\n",
      "4\t0.00031977235449737033\n",
      "5\t8.13294776781836e-05\n",
      "6\t2.0374124567234374e-05\n",
      "7\t5.083289972279989e-06\n",
      "8\t1.2917089011389598e-06\n",
      "9\t1.8039169353920798e-06\n",
      "10\t2.30080443064153e-05\n",
      "11\t0.00014357858704958516\n",
      "---------------\n",
      "Best n: 8\n",
      "Minimum Mean Squared Error: 1.2917089011389598e-06\n"
     ]
    }
   ],
   "source": [
    "find_minimum_n('./CONV08_weights.txt')"
   ]
  },
  {
   "cell_type": "code",
   "execution_count": 8,
   "metadata": {},
   "outputs": [
    {
     "name": "stdout",
     "output_type": "stream",
     "text": [
      "n\tMSE\n",
      "---------------\n",
      "1\t0.00047131069794983097\n",
      "2\t0.0004681407897102546\n",
      "3\t0.0004320433895218087\n",
      "4\t0.00026446966100512393\n",
      "5\t8.14701022443219e-05\n",
      "6\t2.033971878911163e-05\n",
      "7\t5.0867189769656135e-06\n",
      "8\t1.2726695268197842e-06\n",
      "9\t3.180735247225219e-07\n",
      "10\t4.126290664936258e-07\n",
      "11\t5.686868223678275e-06\n",
      "---------------\n",
      "Best n: 9\n",
      "Minimum Mean Squared Error: 3.180735247225219e-07\n"
     ]
    }
   ],
   "source": [
    "find_minimum_n('./CONV10_weights.txt')"
   ]
  },
  {
   "cell_type": "code",
   "execution_count": 9,
   "metadata": {},
   "outputs": [
    {
     "name": "stdout",
     "output_type": "stream",
     "text": [
      "n\tMSE\n",
      "---------------\n",
      "1\t0.0017371027754060912\n",
      "2\t0.0016291015707628413\n",
      "3\t0.0009999452948133633\n",
      "4\t0.0003290170031358882\n",
      "5\t8.160503171130863e-05\n",
      "6\t2.0328952244965686e-05\n",
      "7\t5.085388582698952e-06\n",
      "8\t1.275765094320427e-06\n",
      "9\t4.994238690748321e-07\n",
      "10\t1.2039458042364369e-05\n",
      "11\t0.00014412123012682426\n",
      "---------------\n",
      "Best n: 9\n",
      "Minimum Mean Squared Error: 4.994238690748321e-07\n"
     ]
    }
   ],
   "source": [
    "find_minimum_n('./CONV12_weights.txt')"
   ]
  },
  {
   "cell_type": "code",
   "execution_count": 10,
   "metadata": {},
   "outputs": [
    {
     "name": "stdout",
     "output_type": "stream",
     "text": [
      "n\tMSE\n",
      "---------------\n",
      "1\t0.0002518512212492049\n",
      "2\t0.0002509062190070106\n",
      "3\t0.00023795152506864947\n",
      "4\t0.0001820932563836265\n",
      "5\t8.276573612859064e-05\n",
      "6\t2.0213477061836674e-05\n",
      "7\t5.081371360072263e-06\n",
      "8\t1.274581487000089e-06\n",
      "9\t3.175203734660488e-07\n",
      "10\t1.5388476698928496e-07\n",
      "11\t2.0004743254432753e-06\n",
      "---------------\n",
      "Best n: 10\n",
      "Minimum Mean Squared Error: 1.5388476698928496e-07\n"
     ]
    }
   ],
   "source": [
    "find_minimum_n('./CONV13_weights.txt')"
   ]
  },
  {
   "cell_type": "code",
   "execution_count": 11,
   "metadata": {},
   "outputs": [
    {
     "name": "stdout",
     "output_type": "stream",
     "text": [
      "n\tMSE\n",
      "---------------\n",
      "1\t0.0025577002385834455\n",
      "2\t0.0019207133746010736\n",
      "3\t0.0008198566518321434\n",
      "4\t0.00033850114891873195\n",
      "5\t7.74419793317678e-05\n",
      "6\t1.9918272823229145e-05\n",
      "7\t5.092031144574546e-06\n",
      "8\t1.9801955458822627e-06\n",
      "9\t1.0865547187094135e-05\n",
      "10\t0.00011268211085019945\n",
      "11\t0.0005553666036900672\n",
      "---------------\n",
      "Best n: 8\n",
      "Minimum Mean Squared Error: 1.9801955458822627e-06\n"
     ]
    }
   ],
   "source": [
    "find_minimum_n('./CONV14_weights.txt')"
   ]
  },
  {
   "cell_type": "code",
   "execution_count": 12,
   "metadata": {},
   "outputs": [
    {
     "name": "stdout",
     "output_type": "stream",
     "text": [
      "n\tMSE\n",
      "---------------\n",
      "1\t0.002546957962080095\n",
      "2\t0.0021431796762524584\n",
      "3\t0.0011309818500653249\n",
      "4\t0.0003290117091389637\n",
      "5\t8.16580155468922e-05\n",
      "6\t2.0314323933694866e-05\n",
      "7\t5.09486275958827e-06\n",
      "8\t1.2690265375356957e-06\n",
      "9\t9.732558084826752e-07\n",
      "10\t5.040978484918407e-05\n",
      "11\t0.00036344345044837367\n",
      "---------------\n",
      "Best n: 9\n",
      "Minimum Mean Squared Error: 9.732558084826752e-07\n"
     ]
    }
   ],
   "source": [
    "find_minimum_n('./CONV17_weights.txt')"
   ]
  },
  {
   "cell_type": "code",
   "execution_count": 14,
   "metadata": {},
   "outputs": [
    {
     "name": "stdout",
     "output_type": "stream",
     "text": [
      "n\tMSE\n",
      "---------------\n",
      "1\t0.005111324018972374\n",
      "2\t0.0026285739676235485\n",
      "3\t0.0010200857426736292\n",
      "4\t0.00032787001190940637\n",
      "5\t8.039122430173412e-05\n",
      "6\t2.018313232477933e-05\n",
      "7\t5.070443915011203e-06\n",
      "8\t2.507702113336857e-06\n",
      "9\t7.389736174594173e-05\n",
      "10\t0.0007277295126300453\n",
      "11\t0.0020621932544008345\n",
      "---------------\n",
      "Best n: 8\n",
      "Minimum Mean Squared Error: 2.507702113336857e-06\n"
     ]
    }
   ],
   "source": [
    "find_minimum_n('./CONV20_weights.txt')"
   ]
  }
 ],
 "metadata": {
  "kernelspec": {
   "display_name": "base",
   "language": "python",
   "name": "python3"
  },
  "language_info": {
   "codemirror_mode": {
    "name": "ipython",
    "version": 3
   },
   "file_extension": ".py",
   "mimetype": "text/x-python",
   "name": "python",
   "nbconvert_exporter": "python",
   "pygments_lexer": "ipython3",
   "version": "3.9.13"
  }
 },
 "nbformat": 4,
 "nbformat_minor": 2
}
